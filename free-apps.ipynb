{
 "cells": [
  {
   "cell_type": "markdown",
   "metadata": {},
   "source": [
    "## ANALYZING FREE APPS\n",
    "* This dataset have more than six thousands of rows each other\n",
    "* We need to clean this data and analyze the patterns"
   ]
  },
  {
   "cell_type": "code",
   "execution_count": 1,
   "metadata": {},
   "outputs": [],
   "source": [
    "from csv import reader\n",
    "apple = open('./apple/AppleStore.csv')\n",
    "google = open('./google/googleplaystore.csv')\n",
    "# we transform this in lists\n",
    "apple = list(reader(apple))\n",
    "google = list(reader(google))"
   ]
  },
  {
   "cell_type": "markdown",
   "metadata": {},
   "source": [
    "### We need to see the size of datasets"
   ]
  },
  {
   "cell_type": "code",
   "execution_count": 2,
   "metadata": {},
   "outputs": [],
   "source": [
    "# with this function we can explore datasets\n",
    "def explore_data(dataset, start, end, rows_and_columns=False):\n",
    "    dataset_slice = dataset[start:end]\n",
    "    for row in dataset_slice:\n",
    "        print(row)\n",
    "        print('\\n')\n",
    "    if rows_and_columns:\n",
    "        print('Number of rows:', len(dataset))\n",
    "        print('Number of columns:', len(dataset[0]))"
   ]
  },
  {
   "cell_type": "code",
   "execution_count": 51,
   "metadata": {},
   "outputs": [],
   "source": [
    "#explore_data(apple, 0, 2, True)\n",
    "#print('\\n')\n",
    "#explore_data(google, 0, 2, True)"
   ]
  },
  {
   "cell_type": "markdown",
   "metadata": {},
   "source": [
    "### Cleaning the data"
   ]
  },
  {
   "cell_type": "code",
   "execution_count": 4,
   "metadata": {},
   "outputs": [],
   "source": [
    "# This row have problems of values\n",
    "del google[10473]"
   ]
  },
  {
   "cell_type": "code",
   "execution_count": 5,
   "metadata": {},
   "outputs": [],
   "source": [
    "# with this fuction we're going to identify the duplicates rows\n",
    "def duplicates_apps(dataset, index):\n",
    "    duplicate_apps = []\n",
    "    unique_apps = []\n",
    "\n",
    "    for app in dataset:\n",
    "        name = app[index]\n",
    "        if name in unique_apps:\n",
    "            duplicate_apps.append(name)\n",
    "        else:\n",
    "            unique_apps.append(name)\n",
    "    print('Number of duplicate apps:', len(duplicate_apps))\n",
    "    print('\\n')\n",
    "    print('Examples of duplicate apps:', duplicate_apps[:20])"
   ]
  },
  {
   "cell_type": "code",
   "execution_count": 49,
   "metadata": {},
   "outputs": [],
   "source": [
    "#duplicates_apps(google, 0)"
   ]
  },
  {
   "cell_type": "code",
   "execution_count": 50,
   "metadata": {},
   "outputs": [],
   "source": [
    "#duplicates_apps(apple, 2)"
   ]
  },
  {
   "cell_type": "code",
   "execution_count": 8,
   "metadata": {},
   "outputs": [],
   "source": [
    "# with this fuction we are going to remove the duplicate apps\n",
    "def removing_apps(dataset, index_name, index_rating):\n",
    "    reviews_max = {}\n",
    "    for app in dataset[1:]:\n",
    "        name = app[index_name]\n",
    "        n_reviews = float(app[index_rating])\n",
    "        if name in reviews_max and reviews_max[name] < n_reviews:\n",
    "            reviews_max[name] = n_reviews\n",
    "        elif name not in reviews_max:\n",
    "            reviews_max[name] = n_reviews\n",
    "    return reviews_max"
   ]
  },
  {
   "cell_type": "code",
   "execution_count": 9,
   "metadata": {},
   "outputs": [],
   "source": [
    "clean_google = removing_apps(google, 0, 3)"
   ]
  },
  {
   "cell_type": "code",
   "execution_count": 10,
   "metadata": {},
   "outputs": [
    {
     "data": {
      "text/plain": [
       "9659"
      ]
     },
     "execution_count": 10,
     "metadata": {},
     "output_type": "execute_result"
    }
   ],
   "source": [
    "len(clean_google)"
   ]
  },
  {
   "cell_type": "code",
   "execution_count": 11,
   "metadata": {},
   "outputs": [],
   "source": [
    "clean_apple = removing_apps(apple, 2, 6)"
   ]
  },
  {
   "cell_type": "code",
   "execution_count": 12,
   "metadata": {},
   "outputs": [
    {
     "data": {
      "text/plain": [
       "7195"
      ]
     },
     "execution_count": 12,
     "metadata": {},
     "output_type": "execute_result"
    }
   ],
   "source": [
    "len(clean_apple)"
   ]
  },
  {
   "cell_type": "code",
   "execution_count": 13,
   "metadata": {},
   "outputs": [],
   "source": [
    "#with this fuctions que clean de dataset\n",
    "def clean(dataset, clean_list, name_index, factor_index):\n",
    "    app_clean = []\n",
    "    already_added = []\n",
    "    for app2 in dataset[1:]:\n",
    "        name = app2[name_index]\n",
    "        n_reviews = float(app2[factor_index])\n",
    "        if n_reviews == clean_list[name] and name not in already_added:\n",
    "            app_clean.append(app2)\n",
    "            already_added.append(name)\n",
    "    return app_clean"
   ]
  },
  {
   "cell_type": "code",
   "execution_count": 14,
   "metadata": {},
   "outputs": [],
   "source": [
    "clean_google_list = clean(google, clean_google, 0, 3)"
   ]
  },
  {
   "cell_type": "code",
   "execution_count": 15,
   "metadata": {},
   "outputs": [
    {
     "data": {
      "text/plain": [
       "9659"
      ]
     },
     "execution_count": 15,
     "metadata": {},
     "output_type": "execute_result"
    }
   ],
   "source": [
    "len(clean_google_list)"
   ]
  },
  {
   "cell_type": "code",
   "execution_count": 16,
   "metadata": {},
   "outputs": [],
   "source": [
    "clean_apple_list = clean(apple, clean_apple, 2, 6)"
   ]
  },
  {
   "cell_type": "code",
   "execution_count": 17,
   "metadata": {},
   "outputs": [
    {
     "data": {
      "text/plain": [
       "7195"
      ]
     },
     "execution_count": 17,
     "metadata": {},
     "output_type": "execute_result"
    }
   ],
   "source": [
    "len(clean_apple_list)"
   ]
  },
  {
   "cell_type": "code",
   "execution_count": 18,
   "metadata": {},
   "outputs": [],
   "source": [
    "# we need to remove the apps, that are not in english and spanish\n",
    "def letterNumber(word):\n",
    "    cont = 1\n",
    "    for letter in word:\n",
    "        if ord(letter) > 127:\n",
    "            cont += 1\n",
    "            if cont >= 3:\n",
    "                return False\n",
    "    return True"
   ]
  },
  {
   "cell_type": "code",
   "execution_count": 19,
   "metadata": {},
   "outputs": [],
   "source": [
    "def listEnglish(dataset, index):\n",
    "    new_list = []\n",
    "    for app in dataset:\n",
    "        if letterNumber(app[index]):\n",
    "            new_list.append(app)\n",
    "    return new_list"
   ]
  },
  {
   "cell_type": "code",
   "execution_count": 20,
   "metadata": {},
   "outputs": [],
   "source": [
    "new_google = listEnglish(clean_google_list, 0)"
   ]
  },
  {
   "cell_type": "code",
   "execution_count": 21,
   "metadata": {},
   "outputs": [
    {
     "data": {
      "text/plain": [
       "9523"
      ]
     },
     "execution_count": 21,
     "metadata": {},
     "output_type": "execute_result"
    }
   ],
   "source": [
    "len(new_google)"
   ]
  },
  {
   "cell_type": "code",
   "execution_count": 22,
   "metadata": {},
   "outputs": [],
   "source": [
    "new_apple = listEnglish(clean_apple_list, 2)"
   ]
  },
  {
   "cell_type": "code",
   "execution_count": 23,
   "metadata": {},
   "outputs": [
    {
     "data": {
      "text/plain": [
       "6098"
      ]
     },
     "execution_count": 23,
     "metadata": {},
     "output_type": "execute_result"
    }
   ],
   "source": [
    "len(new_apple)"
   ]
  },
  {
   "cell_type": "code",
   "execution_count": 24,
   "metadata": {},
   "outputs": [],
   "source": [
    "## I only going to keep the free apps the rest doesn't matter\n",
    "def free_apps(dataset, index, free_Word):\n",
    "    free_apps = []\n",
    "    for app in dataset:\n",
    "        if app[index] == free_Word:\n",
    "            free_apps.append(app)\n",
    "    return free_apps"
   ]
  },
  {
   "cell_type": "code",
   "execution_count": 25,
   "metadata": {},
   "outputs": [],
   "source": [
    "free_google_clean = free_apps(new_google, 6, 'Free')"
   ]
  },
  {
   "cell_type": "code",
   "execution_count": 26,
   "metadata": {},
   "outputs": [
    {
     "data": {
      "text/plain": [
       "8780"
      ]
     },
     "execution_count": 26,
     "metadata": {},
     "output_type": "execute_result"
    }
   ],
   "source": [
    "len(free_google_clean)"
   ]
  },
  {
   "cell_type": "code",
   "execution_count": 27,
   "metadata": {},
   "outputs": [],
   "source": [
    "free_apple_clean = free_apps(new_apple, 5, '0')"
   ]
  },
  {
   "cell_type": "code",
   "execution_count": 28,
   "metadata": {},
   "outputs": [
    {
     "data": {
      "text/plain": [
       "3167"
      ]
     },
     "execution_count": 28,
     "metadata": {},
     "output_type": "execute_result"
    }
   ],
   "source": [
    "len(free_apple_clean)"
   ]
  },
  {
   "cell_type": "markdown",
   "metadata": {},
   "source": [
    "## Design\n",
    "* We make first and app of test\n",
    "* If the app have succes them we developed more\n",
    "* We develop first for android because the most phone´s user are android"
   ]
  },
  {
   "cell_type": "code",
   "execution_count": 37,
   "metadata": {},
   "outputs": [],
   "source": [
    "def genresProvider(lista, indice):\n",
    "    genres = {}\n",
    "    for genre in lista:\n",
    "        if genre[indice] in genres:\n",
    "            genres[genre[indice]] += 1\n",
    "        else:\n",
    "            genres[genre[indice]] = 1\n",
    "    return genres"
   ]
  },
  {
   "cell_type": "code",
   "execution_count": 38,
   "metadata": {},
   "outputs": [
    {
     "name": "stdout",
     "output_type": "stream",
     "text": [
      "272\n",
      "114\n"
     ]
    }
   ],
   "source": [
    "google_genres = genresProvider(free_google_clean, 9)\n",
    "print(google_gen['Action'])\n",
    "print(len(google_gen))"
   ]
  },
  {
   "cell_type": "code",
   "execution_count": 44,
   "metadata": {},
   "outputs": [
    {
     "data": {
      "text/plain": [
       "54"
      ]
     },
     "execution_count": 44,
     "metadata": {},
     "output_type": "execute_result"
    }
   ],
   "source": [
    "apple_genres = genresProvider(free_apple_clean, 12)\n",
    "apple_genres['Productivity']"
   ]
  },
  {
   "cell_type": "code",
   "execution_count": 45,
   "metadata": {},
   "outputs": [],
   "source": [
    "# Display function \n",
    "def display_table(dataset):\n",
    "    table_display = []\n",
    "    for key in dataset:\n",
    "        key_val_as_tuple = (dataset[key], key)\n",
    "        table_display.append(key_val_as_tuple)\n",
    "    table_sorted = sorted(table_display, reverse = True)\n",
    "    for entry in table_sorted:\n",
    "        print(entry[1], ':', entry[0])"
   ]
  },
  {
   "cell_type": "code",
   "execution_count": 48,
   "metadata": {},
   "outputs": [],
   "source": [
    "#display_table(apple_genres)\n",
    "#display_table(google_genres)"
   ]
  },
  {
   "cell_type": "code",
   "execution_count": 52,
   "metadata": {},
   "outputs": [],
   "source": [
    "def freq_table(dataset, index, index2):\n",
    "    diccionario = {}\n",
    "    for row in dataset:\n",
    "        if row[index] in diccionario:\n",
    "            diccionario[row[index]][0] += 1\n",
    "            diccionario[row[index]][1] += float(row[index2])\n",
    "        else:\n",
    "            diccionario[row[index]] = []\n",
    "            diccionario[row[index]].append(1)\n",
    "            diccionario[row[index]].append(float(row[index2]))\n",
    "    return diccionario"
   ]
  },
  {
   "cell_type": "code",
   "execution_count": 59,
   "metadata": {},
   "outputs": [],
   "source": [
    "apple_genre_frecuency = freq_table(free_apple_clean, 12, 6)"
   ]
  },
  {
   "cell_type": "code",
   "execution_count": 61,
   "metadata": {},
   "outputs": [
    {
     "data": {
      "text/plain": [
       "[12, 556619.0]"
      ]
     },
     "execution_count": 61,
     "metadata": {},
     "output_type": "execute_result"
    }
   ],
   "source": [
    "apple_genre_frecuency['Book']"
   ]
  },
  {
   "cell_type": "code",
   "execution_count": 63,
   "metadata": {},
   "outputs": [
    {
     "data": {
      "text/plain": [
       "21799.14814814815"
      ]
     },
     "execution_count": 63,
     "metadata": {},
     "output_type": "execute_result"
    }
   ],
   "source": [
    "average_apple = {}\n",
    "for lista in apple_genre_frecuency:\n",
    "    average_apple[lista] = apple_genre_frecuency[lista][1]/apple_genre_frecuency[lista][0]\n",
    "average_apple['Productivity']"
   ]
  },
  {
   "cell_type": "code",
   "execution_count": 64,
   "metadata": {},
   "outputs": [],
   "source": [
    "def freq_table_google(dataset, index, index2):\n",
    "    diccionario = {}\n",
    "    for row in dataset:\n",
    "        if row[index] in diccionario:\n",
    "            diccionario[row[index]][0] += 1\n",
    "            var2 = row[index2]\n",
    "            var2 = var2.replace('+', '')\n",
    "            var2 = var2.replace(',', '')\n",
    "            diccionario[row[index]][1] += float(var2)\n",
    "        else:\n",
    "            diccionario[row[index]] = []\n",
    "            diccionario[row[index]].append(1)\n",
    "            var = row[index2]\n",
    "            var = var.replace('+', '')\n",
    "            var = var.replace(',', '')\n",
    "            diccionario[row[index]].append(float(var))\n",
    "    return diccionario"
   ]
  },
  {
   "cell_type": "code",
   "execution_count": 66,
   "metadata": {},
   "outputs": [],
   "source": [
    "google_genre_frecuency = freq_table_google(free_google_clean, 1, 5)"
   ]
  },
  {
   "cell_type": "code",
   "execution_count": 67,
   "metadata": {},
   "outputs": [
    {
     "data": {
      "text/plain": [
       "[57, 113221100.0]"
      ]
     },
     "execution_count": 67,
     "metadata": {},
     "output_type": "execute_result"
    }
   ],
   "source": [
    "google_genre_frecuency['ART_AND_DESIGN']"
   ]
  },
  {
   "cell_type": "code",
   "execution_count": 68,
   "metadata": {},
   "outputs": [
    {
     "data": {
      "text/plain": [
       "1986335.0877192982"
      ]
     },
     "execution_count": 68,
     "metadata": {},
     "output_type": "execute_result"
    }
   ],
   "source": [
    "average_google = {}\n",
    "for lista in google_genre_frecuency.items():\n",
    "    indice = lista[0]\n",
    "    average_google[indice] = lista[1][1] / lista[1][0]\n",
    "average_google['ART_AND_DESIGN']"
   ]
  },
  {
   "cell_type": "code",
   "execution_count": null,
   "metadata": {},
   "outputs": [],
   "source": []
  }
 ],
 "metadata": {
  "kernelspec": {
   "display_name": "Python 3",
   "language": "python",
   "name": "python3"
  },
  "language_info": {
   "codemirror_mode": {
    "name": "ipython",
    "version": 3
   },
   "file_extension": ".py",
   "mimetype": "text/x-python",
   "name": "python",
   "nbconvert_exporter": "python",
   "pygments_lexer": "ipython3",
   "version": "3.7.3"
  }
 },
 "nbformat": 4,
 "nbformat_minor": 2
}
